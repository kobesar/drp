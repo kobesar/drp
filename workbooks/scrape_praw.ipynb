{
 "cells": [
  {
   "cell_type": "code",
   "execution_count": 1,
   "metadata": {},
   "outputs": [],
   "source": [
    "import praw\n",
    "import datetime as dt\n",
    "import pandas as pd\n",
    "\n",
    "client = 'qxmQgi91kj3kctuGoaqvlg'\n",
    "secret = '7FOePv0zF96sZYjEQb1Zj5n_8W_Nsw'\n",
    "\n",
    "reddit = praw.Reddit(\n",
    "    client_id=client,\n",
    "    client_secret=secret,\n",
    "    user_agent=\"nbascrape kobeef_\",\n",
    ")"
   ]
  },
  {
   "cell_type": "code",
   "execution_count": 2,
   "metadata": {},
   "outputs": [
    {
     "name": "stdout",
     "output_type": "stream",
     "text": [
      "True\n"
     ]
    }
   ],
   "source": [
    "print(reddit.read_only)"
   ]
  },
  {
   "cell_type": "code",
   "execution_count": 18,
   "metadata": {},
   "outputs": [],
   "source": [
    "titles = []\n",
    "dates = []\n",
    "for submission in reddit.subreddit(\"nba\").hot(limit=None):\n",
    "    titles.append(submission.title)\n",
    "    dates.append(dt.datetime.fromtimestamp(submission.created_utc))"
   ]
  },
  {
   "cell_type": "code",
   "execution_count": 21,
   "metadata": {},
   "outputs": [],
   "source": [
    "result = pd.DataFrame({'title': titles, 'date': dates})"
   ]
  },
  {
   "cell_type": "code",
   "execution_count": 22,
   "metadata": {},
   "outputs": [
    {
     "data": {
      "text/html": [
       "<div>\n",
       "<style scoped>\n",
       "    .dataframe tbody tr th:only-of-type {\n",
       "        vertical-align: middle;\n",
       "    }\n",
       "\n",
       "    .dataframe tbody tr th {\n",
       "        vertical-align: top;\n",
       "    }\n",
       "\n",
       "    .dataframe thead th {\n",
       "        text-align: right;\n",
       "    }\n",
       "</style>\n",
       "<table border=\"1\" class=\"dataframe\">\n",
       "  <thead>\n",
       "    <tr style=\"text-align: right;\">\n",
       "      <th></th>\n",
       "      <th>title</th>\n",
       "      <th>date</th>\n",
       "    </tr>\n",
       "  </thead>\n",
       "  <tbody>\n",
       "    <tr>\n",
       "      <th>0</th>\n",
       "      <td>Daily Discussion Thread + Game Thread Index</td>\n",
       "      <td>2022-04-26 06:00:02</td>\n",
       "    </tr>\n",
       "    <tr>\n",
       "      <th>1</th>\n",
       "      <td>[Highlight] Morant takes flight for the monstr...</td>\n",
       "      <td>2022-04-26 18:34:44</td>\n",
       "    </tr>\n",
       "    <tr>\n",
       "      <th>2</th>\n",
       "      <td>TNT releases a video edit of the Nets after be...</td>\n",
       "      <td>2022-04-26 21:20:20</td>\n",
       "    </tr>\n",
       "    <tr>\n",
       "      <th>3</th>\n",
       "      <td>[Highlight] Ja Morant wins the game for the Me...</td>\n",
       "      <td>2022-04-26 19:19:24</td>\n",
       "    </tr>\n",
       "    <tr>\n",
       "      <th>4</th>\n",
       "      <td>Chuck responds to KD's social media posts: \"Go...</td>\n",
       "      <td>2022-04-26 16:14:34</td>\n",
       "    </tr>\n",
       "    <tr>\n",
       "      <th>...</th>\n",
       "      <td>...</td>\n",
       "      <td>...</td>\n",
       "    </tr>\n",
       "    <tr>\n",
       "      <th>736</th>\n",
       "      <td>Which game in today's lineup will be the most ...</td>\n",
       "      <td>2022-04-24 08:35:15</td>\n",
       "    </tr>\n",
       "    <tr>\n",
       "      <th>737</th>\n",
       "      <td>[Frederick] Karl-Anthony Towns rises to challe...</td>\n",
       "      <td>2022-04-24 01:34:46</td>\n",
       "    </tr>\n",
       "    <tr>\n",
       "      <th>738</th>\n",
       "      <td>What’s the chance of Ben Simmons actually play...</td>\n",
       "      <td>2022-04-24 04:24:52</td>\n",
       "    </tr>\n",
       "    <tr>\n",
       "      <th>739</th>\n",
       "      <td>Report: Some Jazz officials \"surprised and ups...</td>\n",
       "      <td>2022-04-23 10:14:47</td>\n",
       "    </tr>\n",
       "    <tr>\n",
       "      <th>740</th>\n",
       "      <td>Bruce Brown has more FGM than Kevin Durant</td>\n",
       "      <td>2022-04-23 23:51:20</td>\n",
       "    </tr>\n",
       "  </tbody>\n",
       "</table>\n",
       "<p>741 rows × 2 columns</p>\n",
       "</div>"
      ],
      "text/plain": [
       "                                                 title                date\n",
       "0          Daily Discussion Thread + Game Thread Index 2022-04-26 06:00:02\n",
       "1    [Highlight] Morant takes flight for the monstr... 2022-04-26 18:34:44\n",
       "2    TNT releases a video edit of the Nets after be... 2022-04-26 21:20:20\n",
       "3    [Highlight] Ja Morant wins the game for the Me... 2022-04-26 19:19:24\n",
       "4    Chuck responds to KD's social media posts: \"Go... 2022-04-26 16:14:34\n",
       "..                                                 ...                 ...\n",
       "736  Which game in today's lineup will be the most ... 2022-04-24 08:35:15\n",
       "737  [Frederick] Karl-Anthony Towns rises to challe... 2022-04-24 01:34:46\n",
       "738  What’s the chance of Ben Simmons actually play... 2022-04-24 04:24:52\n",
       "739  Report: Some Jazz officials \"surprised and ups... 2022-04-23 10:14:47\n",
       "740         Bruce Brown has more FGM than Kevin Durant 2022-04-23 23:51:20\n",
       "\n",
       "[741 rows x 2 columns]"
      ]
     },
     "execution_count": 22,
     "metadata": {},
     "output_type": "execute_result"
    }
   ],
   "source": [
    "result"
   ]
  },
  {
   "cell_type": "code",
   "execution_count": 16,
   "metadata": {},
   "outputs": [
    {
     "name": "stdout",
     "output_type": "stream",
     "text": [
      "1650978002.0\n",
      "1651023284.0\n",
      "1651033220.0\n",
      "1651025964.0\n",
      "1651014874.0\n",
      "1651024649.0\n",
      "1651022183.0\n",
      "1651025851.0\n",
      "1651027684.0\n",
      "1651026002.0\n"
     ]
    }
   ],
   "source": [
    "for submission in reddit.subreddit(\"nba\").hot(limit=10):\n",
    "    print(submission.created_utc)"
   ]
  },
  {
   "cell_type": "code",
   "execution_count": null,
   "metadata": {},
   "outputs": [],
   "source": []
  }
 ],
 "metadata": {
  "interpreter": {
   "hash": "aee8b7b246df8f9039afb4144a1f6fd8d2ca17a180786b69acc140d282b71a49"
  },
  "kernelspec": {
   "display_name": "Python 3.9.0 64-bit",
   "language": "python",
   "name": "python3"
  },
  "language_info": {
   "codemirror_mode": {
    "name": "ipython",
    "version": 3
   },
   "file_extension": ".py",
   "mimetype": "text/x-python",
   "name": "python",
   "nbconvert_exporter": "python",
   "pygments_lexer": "ipython3",
   "version": "3.9.0"
  },
  "orig_nbformat": 4
 },
 "nbformat": 4,
 "nbformat_minor": 2
}
